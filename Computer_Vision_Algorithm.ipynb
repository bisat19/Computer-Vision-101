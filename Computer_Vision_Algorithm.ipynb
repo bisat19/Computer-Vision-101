{
  "nbformat": 4,
  "nbformat_minor": 0,
  "metadata": {
    "colab": {
      "provenance": [],
      "authorship_tag": "ABX9TyMvOlUV7LTuaUgyGgdyxElF",
      "include_colab_link": true
    },
    "kernelspec": {
      "name": "python3",
      "display_name": "Python 3"
    },
    "language_info": {
      "name": "python"
    }
  },
  "cells": [
    {
      "cell_type": "markdown",
      "metadata": {
        "id": "view-in-github",
        "colab_type": "text"
      },
      "source": [
        "<a href=\"https://colab.research.google.com/github/bisat19/Computer-Vision-101/blob/main/Computer_Vision_Algorithm.ipynb\" target=\"_parent\"><img src=\"https://colab.research.google.com/assets/colab-badge.svg\" alt=\"Open In Colab\"/></a>"
      ]
    },
    {
      "cell_type": "markdown",
      "source": [
        "created by: Abisatya Hastarangga P\n",
        "\n",
        "###TITIK\n",
        "Dalam konteks umum, titik adalah objek geometris yang tidak memiliki dimensi (ukuran) atau bentuk. Secara matematis, titik direpresentasikan sebagai lokasi dalam ruang yang ditentukan oleh koordinatnya. Dalam sistem koordinat kartesian dua dimensi, titik biasanya direpresentasikan oleh sepasang koordinat (x, y), di mana x adalah jarak horizontal dari titik tersebut terhadap suatu titik referensi, dan y adalah jarak vertikal dari titik tersebut terhadap titik referensi yang sama.\n",
        "\n",
        "###GARIS\n",
        "Dalam matematika dan geometri, garis adalah himpunan tak terhingga titik yang membentuk jalur lurus yang terbentang tanpa akhir ke dua arah. Garis dapat didefinisikan dengan dua titik yang berbeda pada bidang atau ruang, dan setiap titik pada garis tersebut mempunyai posisi yang unik berdasarkan koordinatnya."
      ],
      "metadata": {
        "id": "uYLlj67sD5m-"
      }
    },
    {
      "cell_type": "code",
      "source": [
        "class Titik:\n",
        "    \"\"\"\n",
        "    Class Titik merepresentasikan titik 2D dengan x dan y sebagai absis dan ordinat.\n",
        "\n",
        "    Attributes:\n",
        "    x (int): absis dari sebuah point/titik\n",
        "    y (int): ordinat dari sebuah titik\n",
        "    \"\"\"\n",
        "\n",
        "    def __init__(self, x, y):\n",
        "        \"\"\"\n",
        "        Inisiasi objek titik.\n",
        "\n",
        "        Parameters:\n",
        "        x (int): absis\n",
        "        y (int): ordinat\n",
        "        \"\"\"\n",
        "        self.x = x\n",
        "        self.y = y"
      ],
      "metadata": {
        "id": "qY7OZML_DCgk"
      },
      "execution_count": 2,
      "outputs": []
    },
    {
      "cell_type": "markdown",
      "source": [
        "## DDA ALGORITHM\n",
        "\n",
        "Dalam grafika komputer, algoritma DDA (Digital Differential Analyzer) digunakan untuk menggambar garis pada layar raster. Ini adalah teknik sederhana dan efektif yang bekerja dengan menghitung secara bertahap koordinat piksel yang terletak pada garis antara dua titik ujung yang diberikan.\n",
        "\n",
        "Berikut adalah pembagian proses algoritma DDA:\n",
        "\n",
        "1. Input: Ini mengambil dua titik ujung segmen garis sebagai input, biasanya diwakili oleh koordinat x dan y mereka (x1, y1) dan (x2, y2).\n",
        "2. Hitung perbedaan: Ini menghitung perbedaan koordinat x dan y antara titik ujung mereka, misalnya, Δx = x2 - x1 dan Δy = y2 - y1.\n",
        "3. Tentukan jumlah langkah: Ini menentukan jumlah langkah yang diperlukan untuk menggambar garis. Ini dapat menjadi nilai absolut Δx atau Δy, yang mana pun yang lebih besar.\n",
        "4. Hitung peningkatan: Ini menghitung peningkatan dalam koordinat x dan y per langkah: Δx_step = Δx / jumlah_langkah dan Δy_step = Δy / jumlah_langkah.\n",
        "5. Iterasi dan menggambar: Ini iterasi selama jumlah langkah, menghitung koordinat x dan y saat ini pada setiap langkah menggunakan:\n",
        "x_saat_ini = x1 + Δx_step * nomor_langkah\n",
        "y_saat_ini = y1 + Δy_step * nomor_langkah\n",
        "Koordinat x dan y yang dihitung pada setiap langkah mewakili piksel yang perlu diaktifkan untuk menggambar garis pada tampilan.\n",
        "\n",
        "Berikut adalah beberapa poin kunci tentang algoritma DDA:\n",
        "\n",
        "1. Ini adalah algoritma yang efisien dan mudah digunakan, sehingga cocok untuk aplikasi grafis real-time.\n",
        "2. Karena keterbatasan intrinsik piksel diskrit, tidak selalu menghasilkan garis yang sempurna lurus; algoritma penggambaran garis lainnya, seperti algoritma garis Bresenham, dapat memberikan akurasi yang lebih baik untuk menggambar garis.\n",
        "\n",
        "\n"
      ],
      "metadata": {
        "id": "204B7gQ55eaV"
      }
    },
    {
      "cell_type": "code",
      "source": [
        "def dda(t1, t2):\n",
        "    \"\"\"\n",
        "    Digital Differential Analyzer (DDA) algorithm untuk menggambar garis antara dua titik atau end point\n",
        "    Parameters:\n",
        "    t1 (Titik): the start point\n",
        "    t2 (Titik): the end point\n",
        "\n",
        "    Returns:\n",
        "    list: list of titik\n",
        "    \"\"\"\n",
        "\n",
        "    # Hitunglah selisih kedua titik tersebut\n",
        "    dx = abs(t2.x - t1.x)\n",
        "    dy = abs(t2.y - t1.y)\n",
        "\n",
        "    # Pilih yang lebih besar dari dua perbedaan tersebut\n",
        "    if dx > dy:\n",
        "        p = 2 * dy - dx\n",
        "        y_inc = 1 if t2.y > t1.y else -1\n",
        "        titikTitik = [(t1.x, t1.y)]\n",
        "        while t1.x < t2.x:\n",
        "            t1.x += 1\n",
        "            if p < 0:\n",
        "                p += 2 * dy\n",
        "            else:\n",
        "                t1.y += y_inc\n",
        "                p += 2 * (dy - dx)\n",
        "            titikTitik.append((t1.x, t1.y))\n",
        "            #print(titikTitik)\n",
        "    else:\n",
        "        p = 2 * dx - dy\n",
        "        x_inc = 1 if t2.x > t1.x else -1\n",
        "        titikTitik = [(t1.x, t1.y)]\n",
        "        while t1.y < t2.y:\n",
        "            t1.y += 1\n",
        "            if p < 0:\n",
        "                p += 2 * dx\n",
        "            else:\n",
        "                t1.x += x_inc\n",
        "                p += 2 * (dx - dy)\n",
        "            titikTitik.append((t1.x, t1.y))\n",
        "            #print(titikTitik[-1])\n",
        "\n",
        "    return titikTitik\n",
        "print(\"Masukan titik start (a,b): \")\n",
        "a,b = map(int, input().strip(\"()\").split(\",\"))\n",
        "print(\"Masukan titik end (c,d): \")\n",
        "c,d = map(int, input().strip(\"()\").split(\",\"))\n",
        "t1 = Titik(a,b)\n",
        "t2 = Titik(c, d)\n",
        "listTitik = dda(t1, t2)\n",
        "for _ in listTitik:\n",
        "  print(_)"
      ],
      "metadata": {
        "colab": {
          "base_uri": "https://localhost:8080/"
        },
        "id": "QUGJZ7o38GGx",
        "outputId": "ba281dc3-5f2c-46ed-aa14-df3b394fe7a7"
      },
      "execution_count": 9,
      "outputs": [
        {
          "output_type": "stream",
          "name": "stdout",
          "text": [
            "Masukan titik start (a,b): \n",
            "3,5\n",
            "Masukan titik end (c,d): \n",
            "4,5\n",
            "(3, 5)\n",
            "(4, 5)\n"
          ]
        }
      ]
    },
    {
      "cell_type": "markdown",
      "source": [
        "##BRESENHAM'S ALGORITHM\n",
        "\n",
        "Bresenham's algorithm, juga dikenal sebagai algoritma garis Bresenham, adalah algoritma klasik yang digunakan dalam grafika komputer untuk menggambar garis pada layar raster. Algoritma ini efisien dan cepat karena menggunakan perhitungan sederhana berbasis integer tanpa menggunakan operasi floating point.\n",
        "\n",
        "Berikut adalah ringkasan cara kerja algoritma Bresenham:\n",
        "\n",
        "Input: Algoritma ini mengambil dua titik ujung garis sebagai input, biasanya direpresentasikan oleh koordinat x dan y mereka (x1, y1) dan (x2, y2).\n",
        "\n",
        "Perbedaan: Ini menghitung perbedaan antara koordinat x dan y dari kedua titik: Δx = x2 - x1 dan Δy = y2 - y1.\n",
        "\n",
        "Menentukan langkah-langkah: Algoritma menentukan jumlah langkah yang diperlukan untuk menggambar garis. Ini adalah nilai absolut dari Δx atau Δy, mana yang lebih besar.\n",
        "\n",
        "Iterasi dan menggambar: Algoritma mengiterasi melalui jumlah langkah yang ditentukan, menghitung posisi piksel saat ini pada setiap langkah menggunakan rumus bresenham dan menggambar piksel tersebut pada layar.\n",
        "\n",
        "Poin utama tentang algoritma Bresenham:\n",
        "\n",
        "1. Efisien dan cepat karena menggunakan operasi integer sederhana.\n",
        "\n",
        "2. Memberikan hasil yang akurat dan tepat pada layar raster.\n",
        "\n",
        "3. Cocok untuk digunakan dalam aplikasi grafika komputer real-time.\n",
        "\n",
        "4. Selain digunakan untuk menggambar garis, algoritma Bresenham juga dapat digunakan untuk menggambar lingkaran dan elips.\n",
        "\n",
        "Ini adalah gambaran singkat tentang algoritma Bresenham, yang merupakan salah satu algoritma klasik yang penting dalam bidang grafika komputer."
      ],
      "metadata": {
        "id": "EMrkrOvKAqbf"
      }
    },
    {
      "cell_type": "code",
      "source": [
        "def bresenham(t1, t2):\n",
        "    \"\"\"\n",
        "    Bresenham's line algorithm untuk menggambar garis.\n",
        "    Parameters:\n",
        "    t1 (Titik): the start point\n",
        "    t2 (Titik): the end point\n",
        "\n",
        "    Returns:\n",
        "    list: list of titik\n",
        "    \"\"\"\n",
        "    titikTitik = []\n",
        "\n",
        "    # Tentukan arah garis tersebut\n",
        "    dx = abs(t2.x - t1.x)\n",
        "    dy = abs(t2.y - t1.y)\n",
        "    x_inc = 1 if t1.x < t2.x else -1\n",
        "    y_inc = 1 if t1.y < t2.y else -1\n",
        "\n",
        "    # Initialize the error term\n",
        "    if dx > dy:\n",
        "        error = -dx // 2\n",
        "        while True:\n",
        "            titikTitik.append((t1.x, t1.y))\n",
        "            if t1.x == t2.x:\n",
        "                break\n",
        "            error += dy\n",
        "            if error > -dx:\n",
        "                t1.x += x_inc\n",
        "                error -= dx\n",
        "            if t1.y != t2.y:\n",
        "                t1.y += y_inc\n",
        "    else:\n",
        "        error = -dy // 2\n",
        "        while True:\n",
        "            titikTitik.append((t1.x, t1.y))\n",
        "            if t1.y == t2.y:\n",
        "                break\n",
        "            error += dx\n",
        "            if error > -dy:\n",
        "                t1.y += y_inc\n",
        "                error -= dy\n",
        "            if t1.x != t2.x:\n",
        "                t1.x += x_inc\n",
        "\n",
        "    return titikTitik\n",
        "\n",
        "print(\"Masukan titik start (a,b): \")\n",
        "a,b = map(int, input().strip(\"()\").split(\",\"))\n",
        "print(\"Masukan titik end (c,d): \")\n",
        "c,d = map(int, input().strip(\"()\").split(\",\"))\n",
        "t1 = Titik(a,b)\n",
        "t2 = Titik(c, d)\n",
        "listTitik = bresenham(t1,t2)\n",
        "for _ in listTitik:\n",
        "    print(_)"
      ],
      "metadata": {
        "colab": {
          "base_uri": "https://localhost:8080/"
        },
        "id": "Nq5Dg-Au92rP",
        "outputId": "56358cfd-1f5c-42b2-8ed8-5fe353cf1916"
      },
      "execution_count": 3,
      "outputs": [
        {
          "output_type": "stream",
          "name": "stdout",
          "text": [
            "Masukan titik start (a,b): \n",
            "3,4\n",
            "Masukan titik end (c,d): \n",
            "4,5\n",
            "(3, 4)\n",
            "(4, 5)\n"
          ]
        }
      ]
    },
    {
      "cell_type": "code",
      "source": [
        "def bresenham_circle(center, r):\n",
        "    x = 0\n",
        "    y = r\n",
        "    decision = 1 - r\n",
        "    while x <= y:\n",
        "        # Plot titik\n",
        "        print(center[0] + x, center[1] + y)\n",
        "        print(center[0] + x, center[1] - y)\n",
        "        print(center[0] - x, center[1] + y)\n",
        "        print(center[0] - x, center[1] - y)\n",
        "        print(center[0] + y, center[1] + x)\n",
        "        print(center[0] + y, center[1] - x)\n",
        "        print(center[0] - y, center[1] + x)\n",
        "        print(center[0] - y, center[1] - x)\n",
        "        x += 1\n",
        "        if decision < 0:\n",
        "            decision += 2 * x + 1\n",
        "        else:\n",
        "            y -= 1\n",
        "            decision += 2 * (x - y) + 1\n",
        "\n",
        "# Example usage:\n",
        "print(\"Masukan titik pusat lingkaran (a,b): \")\n",
        "a,b = map(int, input().strip(\"()\").split(\",\"))\n",
        "print(\"Masukan radius lingkaran: \")\n",
        "r = int(input())\n",
        "midpoint = Titik(a,b)\n",
        "bresenham_circle((a,b), r)"
      ],
      "metadata": {
        "colab": {
          "base_uri": "https://localhost:8080/"
        },
        "id": "AlYFMieeB9XR",
        "outputId": "70df7671-60e5-4cd5-8bee-1ece2d23467b"
      },
      "execution_count": 8,
      "outputs": [
        {
          "output_type": "stream",
          "name": "stdout",
          "text": [
            "Masukan titik pusat lingkaran (a,b): \n",
            "4,5\n",
            "Masukan radius lingkaran: \n",
            "1\n",
            "4 6\n",
            "4 4\n",
            "4 6\n",
            "4 4\n",
            "5 5\n",
            "5 5\n",
            "3 5\n",
            "3 5\n"
          ]
        }
      ]
    }
  ]
}